{
  "nbformat": 4,
  "nbformat_minor": 0,
  "metadata": {
    "colab": {
      "name": "CNN.ipynb",
      "version": "0.3.2",
      "views": {},
      "default_view": {},
      "provenance": [],
      "collapsed_sections": []
    },
    "kernelspec": {
      "display_name": "Python 3",
      "language": "python",
      "name": "python3"
    },
    "accelerator": "GPU"
  },
  "cells": [
    {
      "metadata": {
        "id": "g7UTF7dc6dDh",
        "colab_type": "code",
        "colab": {
          "autoexec": {
            "startup": false,
            "wait_interval": 0
          }
        }
      },
      "cell_type": "code",
      "source": [
        "from keras.datasets import fashion_mnist\n",
        "(train_X,train_Y), (test_X,test_Y) = fashion_mnist.load_data()"
      ],
      "execution_count": 0,
      "outputs": []
    },
    {
      "metadata": {
        "id": "lkOR8aRQ6dDl",
        "colab_type": "code",
        "colab": {
          "autoexec": {
            "startup": false,
            "wait_interval": 0
          },
          "base_uri": "https://localhost:8080/",
          "height": 53
        },
        "outputId": "62998ec7-e16e-408f-ac4c-37622ae6aae2",
        "executionInfo": {
          "status": "ok",
          "timestamp": 1527969452173,
          "user_tz": -330,
          "elapsed": 999,
          "user": {
            "displayName": "Himanshu Narang",
            "photoUrl": "//lh3.googleusercontent.com/-xqfGx9_lfCw/AAAAAAAAAAI/AAAAAAAAD7Y/_Yy2zsvI8Ng/s50-c-k-no/photo.jpg",
            "userId": "111430125776049304656"
          }
        }
      },
      "cell_type": "code",
      "source": [
        "import numpy as np\n",
        "from keras.utils import to_categorical\n",
        "import matplotlib.pyplot as plt\n",
        "%matplotlib inline\n",
        "\n",
        "print('Training Data Shape :',train_X.shape, train_Y.shape)\n",
        "print('Test Data Sample: ',test_X.shape,test_Y.shape)"
      ],
      "execution_count": 48,
      "outputs": [
        {
          "output_type": "stream",
          "text": [
            "Training Data Shape : (60000, 28, 28) (60000,)\n",
            "Test Data Sample:  (10000, 28, 28) (10000,)\n"
          ],
          "name": "stdout"
        }
      ]
    },
    {
      "metadata": {
        "id": "JAh5jYpW6dDp",
        "colab_type": "code",
        "colab": {
          "autoexec": {
            "startup": false,
            "wait_interval": 0
          },
          "base_uri": "https://localhost:8080/",
          "height": 53
        },
        "outputId": "0e7b1565-48fc-4633-b3a7-b14b1f5391e7",
        "executionInfo": {
          "status": "ok",
          "timestamp": 1527969455049,
          "user_tz": -330,
          "elapsed": 911,
          "user": {
            "displayName": "Himanshu Narang",
            "photoUrl": "//lh3.googleusercontent.com/-xqfGx9_lfCw/AAAAAAAAAAI/AAAAAAAAD7Y/_Yy2zsvI8Ng/s50-c-k-no/photo.jpg",
            "userId": "111430125776049304656"
          }
        }
      },
      "cell_type": "code",
      "source": [
        "classes=np.unique(train_Y)\n",
        "nclasses=len(classes)\n",
        "print(\"Number of classes=\",nclasses)\n",
        "print(\"Classes are \",classes)"
      ],
      "execution_count": 49,
      "outputs": [
        {
          "output_type": "stream",
          "text": [
            "Number of classes= 10\n",
            "Classes are  [0 1 2 3 4 5 6 7 8 9]\n"
          ],
          "name": "stdout"
        }
      ]
    },
    {
      "metadata": {
        "id": "P7wc_F7o9_K7",
        "colab_type": "code",
        "colab": {
          "autoexec": {
            "startup": false,
            "wait_interval": 0
          },
          "base_uri": "https://localhost:8080/",
          "height": 233
        },
        "outputId": "cae0f5d4-b378-4a34-cbb0-56a12579130e",
        "executionInfo": {
          "status": "ok",
          "timestamp": 1527969456580,
          "user_tz": -330,
          "elapsed": 986,
          "user": {
            "displayName": "Himanshu Narang",
            "photoUrl": "//lh3.googleusercontent.com/-xqfGx9_lfCw/AAAAAAAAAAI/AAAAAAAAD7Y/_Yy2zsvI8Ng/s50-c-k-no/photo.jpg",
            "userId": "111430125776049304656"
          }
        }
      },
      "cell_type": "code",
      "source": [
        "plt.subplot(121)\n",
        "plt.imshow(train_X[0,:,:],cmap='gray')\n",
        "plt.title(\"Class Label: {}\".format(train_Y[0]))\n",
        "\n",
        "plt.subplot(122)\n",
        "plt.imshow(test_X[0,:,:],cmap='gray')\n",
        "plt.title(\"Class Label: {}\".format(test_Y[0]))"
      ],
      "execution_count": 50,
      "outputs": [
        {
          "output_type": "execute_result",
          "data": {
            "text/plain": [
              "Text(0.5,1,'Class Label: 9')"
            ]
          },
          "metadata": {
            "tags": []
          },
          "execution_count": 50
        },
        {
          "output_type": "display_data",
          "data": {
            "image/png": "[encoded data removed]",
            "text/plain": [
              "<matplotlib.figure.Figure at 0x7f9122852da0>"
            ]
          },
          "metadata": {
            "tags": []
          }
        }
      ]
    },
    {
      "metadata": {
        "id": "Y_47KaHF-kMM",
        "colab_type": "code",
        "colab": {
          "autoexec": {
            "startup": false,
            "wait_interval": 0
          }
        }
      },
      "cell_type": "code",
      "source": [
        ""
      ],
      "execution_count": 0,
      "outputs": []
    },
    {
      "metadata": {
        "id": "aQ9VQnul-7DP",
        "colab_type": "code",
        "colab": {
          "autoexec": {
            "startup": false,
            "wait_interval": 0
          },
          "base_uri": "https://localhost:8080/",
          "height": 35
        },
        "outputId": "b43c4792-df22-4cb0-df12-2c4c29bf7ebd",
        "executionInfo": {
          "status": "ok",
          "timestamp": 1527969481169,
          "user_tz": -330,
          "elapsed": 949,
          "user": {
            "displayName": "Himanshu Narang",
            "photoUrl": "//lh3.googleusercontent.com/-xqfGx9_lfCw/AAAAAAAAAAI/AAAAAAAAD7Y/_Yy2zsvI8Ng/s50-c-k-no/photo.jpg",
            "userId": "111430125776049304656"
          }
        }
      },
      "cell_type": "code",
      "source": [
        "#Converting images with 28*28 dimensions into 28*28*1 matrix\n",
        "\n",
        "train_X=train_X.reshape(-1,28,28,1)\n",
        "test_X=test_X.reshape(-1,28,28,1)\n",
        "train_X.shape,test_X.shape"
      ],
      "execution_count": 51,
      "outputs": [
        {
          "output_type": "execute_result",
          "data": {
            "text/plain": [
              "((60000, 28, 28, 1), (10000, 28, 28, 1))"
            ]
          },
          "metadata": {
            "tags": []
          },
          "execution_count": 51
        }
      ]
    },
    {
      "metadata": {
        "id": "cHprgnDgA8o5",
        "colab_type": "code",
        "colab": {
          "autoexec": {
            "startup": false,
            "wait_interval": 0
          }
        }
      },
      "cell_type": "code",
      "source": [
        "#Converting the data from int8 format into float32 format\n",
        "\n",
        "train_X=train_X.astype('float32')\n",
        "test_X=test_X.astype('float32')\n",
        "\n",
        "#Converting the pixels size of the image from 0-255 into 0-1\n",
        "\n",
        "train_X=train_X/255\n",
        "test_X=test_X/255"
      ],
      "execution_count": 0,
      "outputs": []
    },
    {
      "metadata": {
        "id": "2bn_NizbB1kR",
        "colab_type": "code",
        "colab": {
          "autoexec": {
            "startup": false,
            "wait_interval": 0
          },
          "base_uri": "https://localhost:8080/",
          "height": 53
        },
        "outputId": "1f25fb04-b9ed-4ea3-bfeb-a6635bfdfe32",
        "executionInfo": {
          "status": "ok",
          "timestamp": 1527969487094,
          "user_tz": -330,
          "elapsed": 911,
          "user": {
            "displayName": "Himanshu Narang",
            "photoUrl": "//lh3.googleusercontent.com/-xqfGx9_lfCw/AAAAAAAAAAI/AAAAAAAAD7Y/_Yy2zsvI8Ng/s50-c-k-no/photo.jpg",
            "userId": "111430125776049304656"
          }
        }
      },
      "cell_type": "code",
      "source": [
        "#Changing the labels from categorical to one-hot encoding\n",
        "\n",
        "\n",
        "train_Y_one_hot=to_categorical(train_Y)\n",
        "test_Y_one_hot=to_categorical(test_Y)\n",
        "print(\"Categorical data\", train_Y[0])\n",
        "print(\"After one_coding\", train_Y_one_hot[0])"
      ],
      "execution_count": 53,
      "outputs": [
        {
          "output_type": "stream",
          "text": [
            "Categorical data 9\n",
            "After one_coding [0. 0. 0. 0. 0. 0. 0. 0. 0. 1.]\n"
          ],
          "name": "stdout"
        }
      ]
    },
    {
      "metadata": {
        "id": "c42VC-8wClUR",
        "colab_type": "code",
        "colab": {
          "autoexec": {
            "startup": false,
            "wait_interval": 0
          },
          "base_uri": "https://localhost:8080/",
          "height": 35
        },
        "outputId": "a9ddf4f7-309e-4c44-fda8-305b32e0c879",
        "executionInfo": {
          "status": "ok",
          "timestamp": 1527969579779,
          "user_tz": -330,
          "elapsed": 1069,
          "user": {
            "displayName": "Himanshu Narang",
            "photoUrl": "//lh3.googleusercontent.com/-xqfGx9_lfCw/AAAAAAAAAAI/AAAAAAAAD7Y/_Yy2zsvI8Ng/s50-c-k-no/photo.jpg",
            "userId": "111430125776049304656"
          }
        }
      },
      "cell_type": "code",
      "source": [
        "#Splitting into train and test split\n",
        "\n",
        "from sklearn.model_selection import train_test_split\n",
        "train_X,valid_X,train_label,valid_label=train_test_split(train_X,train_Y_one_hot,test_size=0.2,random_state=13)\n",
        "train_X.shape,valid_X.shape,train_label.shape,valid_label.shape"
      ],
      "execution_count": 54,
      "outputs": [
        {
          "output_type": "execute_result",
          "data": {
            "text/plain": [
              "((48000, 28, 28, 1), (12000, 28, 28, 1), (48000, 10), (12000, 10))"
            ]
          },
          "metadata": {
            "tags": []
          },
          "execution_count": 54
        }
      ]
    },
    {
      "metadata": {
        "id": "QLBuhjv4DhZh",
        "colab_type": "code",
        "colab": {
          "autoexec": {
            "startup": false,
            "wait_interval": 0
          }
        }
      },
      "cell_type": "code",
      "source": [
        "import keras\n",
        "from keras.models import Sequential,Input,Model\n",
        "from keras.layers import Dense,Dropout,Flatten\n",
        "from keras.layers import Conv2D,MaxPooling2D\n",
        "from keras.layers.normalization import BatchNormalization\n",
        "from keras.layers.advanced_activations import LeakyReLU"
      ],
      "execution_count": 0,
      "outputs": []
    },
    {
      "metadata": {
        "id": "cm-MM3cvHPnR",
        "colab_type": "code",
        "colab": {
          "autoexec": {
            "startup": false,
            "wait_interval": 0
          }
        }
      },
      "cell_type": "code",
      "source": [
        "batch_size=64\n",
        "num_classes=10\n",
        "epochs=20"
      ],
      "execution_count": 0,
      "outputs": []
    },
    {
      "metadata": {
        "id": "PiLNOU7pHfQM",
        "colab_type": "code",
        "colab": {
          "autoexec": {
            "startup": false,
            "wait_interval": 0
          }
        }
      },
      "cell_type": "code",
      "source": [
        "#Building the neural network architecture\n",
        "\n",
        "fashion_model=Sequential()\n",
        "\n",
        "fashion_model.add(Conv2D(32,kernel_size=(3,3),activation='linear',input_shape=(28,28,1),padding='same'))\n",
        "fashion_model.add(LeakyReLU(alpha=0.1))\n",
        "fashion_model.add(MaxPooling2D((2,2),padding='same'))\n",
        "fashion_model.add(Dropout(0.25))\n",
        "\n",
        "fashion_model.add(Conv2D(64,(3,3),activation='linear',padding='same'))\n",
        "fashion_model.add(LeakyReLU(alpha=0.1))\n",
        "fashion_model.add(MaxPooling2D(pool_size=(2,2),padding='same'))\n",
        "fashion_model.add(Dropout(0.25))\n",
        "\n",
        "fashion_model.add(Conv2D(128,(3,3),activation='linear',padding='same'))\n",
        "fashion_model.add(LeakyReLU(alpha=0.1))\n",
        "fashion_model.add(MaxPooling2D(pool_size=(2,2),padding='same'))\n",
        "fashion_model.add(Dropout(0.25))\n",
        "\n",
        "fashion_model.add(Flatten())\n",
        "fashion_model.add(Dense(128,activation='linear'))\n",
        "fashion_model.add(LeakyReLU(alpha=0.1))\n",
        "fashion_model.add(Dropout(0.25))\n",
        "\n",
        "fashion_model.add(Dense(num_classes,activation='softmax'))"
      ],
      "execution_count": 0,
      "outputs": []
    },
    {
      "metadata": {
        "id": "plSJPh5KSN0V",
        "colab_type": "code",
        "colab": {
          "autoexec": {
            "startup": false,
            "wait_interval": 0
          }
        }
      },
      "cell_type": "code",
      "source": [
        "#Compiling the model\n",
        "\n",
        "fashion_model.compile(loss=keras.losses.categorical_crossentropy,optimizer=keras.optimizers.Adam(),metrics=['accuracy'])"
      ],
      "execution_count": 0,
      "outputs": []
    },
    {
      "metadata": {
        "id": "FA6Y5NfgS8e7",
        "colab_type": "code",
        "colab": {
          "autoexec": {
            "startup": false,
            "wait_interval": 0
          },
          "base_uri": "https://localhost:8080/",
          "height": 755
        },
        "outputId": "b64e0575-38bc-4f2f-80d7-bf61bdbb3666",
        "executionInfo": {
          "status": "ok",
          "timestamp": 1527974232132,
          "user_tz": -330,
          "elapsed": 907,
          "user": {
            "displayName": "Himanshu Narang",
            "photoUrl": "//lh3.googleusercontent.com/-xqfGx9_lfCw/AAAAAAAAAAI/AAAAAAAAD7Y/_Yy2zsvI8Ng/s50-c-k-no/photo.jpg",
            "userId": "111430125776049304656"
          }
        }
      },
      "cell_type": "code",
      "source": [
        "fashion_model.summary()"
      ],
      "execution_count": 69,
      "outputs": [
        {
          "output_type": "stream",
          "text": [
            "_________________________________________________________________\n",
            "Layer (type)                 Output Shape              Param #   \n",
            "=================================================================\n",
            "conv2d_10 (Conv2D)           (None, 28, 28, 32)        320       \n",
            "_________________________________________________________________\n",
            "leaky_re_lu_13 (LeakyReLU)   (None, 28, 28, 32)        0         \n",
            "_________________________________________________________________\n",
            "max_pooling2d_10 (MaxPooling (None, 14, 14, 32)        0         \n",
            "_________________________________________________________________\n",
            "dropout_1 (Dropout)          (None, 14, 14, 32)        0         \n",
            "_________________________________________________________________\n",
            "conv2d_11 (Conv2D)           (None, 14, 14, 64)        18496     \n",
            "_________________________________________________________________\n",
            "leaky_re_lu_14 (LeakyReLU)   (None, 14, 14, 64)        0         \n",
            "_________________________________________________________________\n",
            "max_pooling2d_11 (MaxPooling (None, 7, 7, 64)          0         \n",
            "_________________________________________________________________\n",
            "dropout_2 (Dropout)          (None, 7, 7, 64)          0         \n",
            "_________________________________________________________________\n",
            "conv2d_12 (Conv2D)           (None, 7, 7, 128)         73856     \n",
            "_________________________________________________________________\n",
            "leaky_re_lu_15 (LeakyReLU)   (None, 7, 7, 128)         0         \n",
            "_________________________________________________________________\n",
            "max_pooling2d_12 (MaxPooling (None, 4, 4, 128)         0         \n",
            "_________________________________________________________________\n",
            "dropout_3 (Dropout)          (None, 4, 4, 128)         0         \n",
            "_________________________________________________________________\n",
            "flatten_4 (Flatten)          (None, 2048)              0         \n",
            "_________________________________________________________________\n",
            "dense_5 (Dense)              (None, 128)               262272    \n",
            "_________________________________________________________________\n",
            "leaky_re_lu_16 (LeakyReLU)   (None, 128)               0         \n",
            "_________________________________________________________________\n",
            "dropout_4 (Dropout)          (None, 128)               0         \n",
            "_________________________________________________________________\n",
            "dense_6 (Dense)              (None, 10)                1290      \n",
            "=================================================================\n",
            "Total params: 356,234\n",
            "Trainable params: 356,234\n",
            "Non-trainable params: 0\n",
            "_________________________________________________________________\n"
          ],
          "name": "stdout"
        }
      ]
    },
    {
      "metadata": {
        "id": "aSMQ2SmvS_re",
        "colab_type": "code",
        "colab": {
          "autoexec": {
            "startup": false,
            "wait_interval": 0
          },
          "base_uri": "https://localhost:8080/",
          "height": 775
        },
        "outputId": "b60d59c5-a79e-4ffd-be29-5f9e4b7a002d",
        "executionInfo": {
          "status": "ok",
          "timestamp": 1527974543243,
          "user_tz": -330,
          "elapsed": 307969,
          "user": {
            "displayName": "Himanshu Narang",
            "photoUrl": "//lh3.googleusercontent.com/-xqfGx9_lfCw/AAAAAAAAAAI/AAAAAAAAD7Y/_Yy2zsvI8Ng/s50-c-k-no/photo.jpg",
            "userId": "111430125776049304656"
          }
        }
      },
      "cell_type": "code",
      "source": [
        "fashion_train = fashion_model.fit(train_X, train_label, batch_size=batch_size,epochs=epochs,verbose=1,validation_data=(valid_X, valid_label))"
      ],
      "execution_count": 70,
      "outputs": [
        {
          "output_type": "stream",
          "text": [
            "Train on 48000 samples, validate on 12000 samples\n",
            "Epoch 1/20\n",
            "48000/48000 [==============================] - 16s 336us/step - loss: 0.5805 - acc: 0.7843 - val_loss: 0.3673 - val_acc: 0.8658\n",
            "Epoch 2/20\n",
            "42752/48000 [=========================>....] - ETA: 1s - loss: 0.3746 - acc: 0.8615"
          ],
          "name": "stdout"
        },
        {
          "output_type": "stream",
          "text": [
            "48000/48000 [==============================] - 16s 324us/step - loss: 0.3698 - acc: 0.8631 - val_loss: 0.2993 - val_acc: 0.8902\n",
            "Epoch 3/20\n",
            "48000/48000 [==============================] - 15s 319us/step - loss: 0.3203 - acc: 0.8823 - val_loss: 0.2844 - val_acc: 0.8957\n",
            "Epoch 4/20\n",
            "21824/48000 [============>.................] - ETA: 7s - loss: 0.2934 - acc: 0.8895"
          ],
          "name": "stdout"
        },
        {
          "output_type": "stream",
          "text": [
            "48000/48000 [==============================] - 15s 321us/step - loss: 0.2906 - acc: 0.8908 - val_loss: 0.2567 - val_acc: 0.9048\n",
            "Epoch 5/20\n",
            "48000/48000 [==============================] - 15s 323us/step - loss: 0.2698 - acc: 0.8996 - val_loss: 0.2571 - val_acc: 0.9016\n",
            "Epoch 6/20\n",
            "16960/48000 [=========>....................] - ETA: 9s - loss: 0.2571 - acc: 0.9035"
          ],
          "name": "stdout"
        },
        {
          "output_type": "stream",
          "text": [
            "48000/48000 [==============================] - 15s 319us/step - loss: 0.2538 - acc: 0.9056 - val_loss: 0.2403 - val_acc: 0.9140\n",
            "Epoch 7/20\n",
            "48000/48000 [==============================] - 15s 317us/step - loss: 0.2422 - acc: 0.9101 - val_loss: 0.2417 - val_acc: 0.9114\n",
            "Epoch 8/20\n",
            "16000/48000 [=========>....................] - ETA: 9s - loss: 0.2209 - acc: 0.9190"
          ],
          "name": "stdout"
        },
        {
          "output_type": "stream",
          "text": [
            "48000/48000 [==============================] - 15s 319us/step - loss: 0.2311 - acc: 0.9155 - val_loss: 0.2203 - val_acc: 0.9194\n",
            "Epoch 9/20\n",
            "48000/48000 [==============================] - 15s 315us/step - loss: 0.2229 - acc: 0.9173 - val_loss: 0.2239 - val_acc: 0.9178\n",
            "Epoch 10/20\n",
            "15744/48000 [========>.....................] - ETA: 9s - loss: 0.2131 - acc: 0.9224"
          ],
          "name": "stdout"
        },
        {
          "output_type": "stream",
          "text": [
            "48000/48000 [==============================] - 15s 317us/step - loss: 0.2139 - acc: 0.9204 - val_loss: 0.2212 - val_acc: 0.9191\n",
            "Epoch 11/20\n",
            "48000/48000 [==============================] - 15s 317us/step - loss: 0.2104 - acc: 0.9213 - val_loss: 0.2125 - val_acc: 0.9234\n",
            "Epoch 12/20\n",
            "15424/48000 [========>.....................] - ETA: 9s - loss: 0.1952 - acc: 0.9262"
          ],
          "name": "stdout"
        },
        {
          "output_type": "stream",
          "text": [
            "48000/48000 [==============================] - 15s 317us/step - loss: 0.2017 - acc: 0.9240 - val_loss: 0.2147 - val_acc: 0.9240\n",
            "Epoch 13/20\n",
            "48000/48000 [==============================] - 15s 316us/step - loss: 0.1975 - acc: 0.9251 - val_loss: 0.2062 - val_acc: 0.9289\n",
            "Epoch 14/20\n",
            "15424/48000 [========>.....................] - ETA: 9s - loss: 0.1957 - acc: 0.9254"
          ],
          "name": "stdout"
        },
        {
          "output_type": "stream",
          "text": [
            "48000/48000 [==============================] - 15s 315us/step - loss: 0.1943 - acc: 0.9259 - val_loss: 0.2128 - val_acc: 0.9237\n",
            "Epoch 15/20\n",
            "48000/48000 [==============================] - 15s 317us/step - loss: 0.1906 - acc: 0.9286 - val_loss: 0.2108 - val_acc: 0.9273\n",
            "Epoch 16/20\n",
            "15424/48000 [========>.....................] - ETA: 9s - loss: 0.1797 - acc: 0.9326"
          ],
          "name": "stdout"
        },
        {
          "output_type": "stream",
          "text": [
            "48000/48000 [==============================] - 15s 317us/step - loss: 0.1823 - acc: 0.9314 - val_loss: 0.2117 - val_acc: 0.9277\n",
            "Epoch 17/20\n",
            "48000/48000 [==============================] - 15s 319us/step - loss: 0.1810 - acc: 0.9315 - val_loss: 0.2173 - val_acc: 0.9253\n",
            "Epoch 18/20\n",
            "15168/48000 [========>.....................] - ETA: 9s - loss: 0.1733 - acc: 0.9335"
          ],
          "name": "stdout"
        },
        {
          "output_type": "stream",
          "text": [
            "48000/48000 [==============================] - 15s 314us/step - loss: 0.1783 - acc: 0.9328 - val_loss: 0.2087 - val_acc: 0.9270\n",
            "Epoch 19/20\n",
            "48000/48000 [==============================] - 15s 318us/step - loss: 0.1727 - acc: 0.9345 - val_loss: 0.2202 - val_acc: 0.9242\n",
            "Epoch 20/20\n",
            "15424/48000 [========>.....................] - ETA: 9s - loss: 0.1726 - acc: 0.9317"
          ],
          "name": "stdout"
        },
        {
          "output_type": "stream",
          "text": [
            "48000/48000 [==============================] - 15s 315us/step - loss: 0.1760 - acc: 0.9322 - val_loss: 0.2032 - val_acc: 0.9280\n"
          ],
          "name": "stdout"
        }
      ]
    },
    {
      "metadata": {
        "id": "4GgvdPx6TxdT",
        "colab_type": "code",
        "colab": {
          "autoexec": {
            "startup": false,
            "wait_interval": 0
          }
        }
      },
      "cell_type": "code",
      "source": [
        "#Evaluating on the test dataset\n",
        "\n",
        "test_eval=fashion_model.evaluate(test_X,test_Y_one_hot,verbose=0)\n"
      ],
      "execution_count": 0,
      "outputs": []
    },
    {
      "metadata": {
        "id": "kBihpVNPVuoQ",
        "colab_type": "code",
        "colab": {
          "autoexec": {
            "startup": false,
            "wait_interval": 0
          },
          "base_uri": "https://localhost:8080/",
          "height": 53
        },
        "outputId": "fe9ab1b3-8d23-4fb5-f96b-995817a543fb",
        "executionInfo": {
          "status": "ok",
          "timestamp": 1527974546597,
          "user_tz": -330,
          "elapsed": 903,
          "user": {
            "displayName": "Himanshu Narang",
            "photoUrl": "//lh3.googleusercontent.com/-xqfGx9_lfCw/AAAAAAAAAAI/AAAAAAAAD7Y/_Yy2zsvI8Ng/s50-c-k-no/photo.jpg",
            "userId": "111430125776049304656"
          }
        }
      },
      "cell_type": "code",
      "source": [
        "print(\"Test Loss\", test_eval[0])\n",
        "print(\"Test_Accuracy\",test_eval[1])"
      ],
      "execution_count": 72,
      "outputs": [
        {
          "output_type": "stream",
          "text": [
            "Test Loss 0.21218550820946694\n",
            "Test_Accuracy 0.9233\n"
          ],
          "name": "stdout"
        }
      ]
    },
    {
      "metadata": {
        "id": "jb4A92SOV2Nw",
        "colab_type": "code",
        "colab": {
          "autoexec": {
            "startup": false,
            "wait_interval": 0
          }
        }
      },
      "cell_type": "code",
      "source": [
        "fashion_model.save('fashion_model.h5py')"
      ],
      "execution_count": 0,
      "outputs": []
    },
    {
      "metadata": {
        "id": "87hPH2ipYuBV",
        "colab_type": "code",
        "colab": {
          "autoexec": {
            "startup": false,
            "wait_interval": 0
          }
        }
      },
      "cell_type": "code",
      "source": [
        ""
      ],
      "execution_count": 0,
      "outputs": []
    },
    {
      "metadata": {
        "id": "Uep22QgXY3PA",
        "colab_type": "code",
        "colab": {
          "autoexec": {
            "startup": false,
            "wait_interval": 0
          }
        }
      },
      "cell_type": "code",
      "source": [
        ""
      ],
      "execution_count": 0,
      "outputs": []
    },
    {
      "metadata": {
        "id": "7ITZ92trY-gh",
        "colab_type": "code",
        "colab": {
          "autoexec": {
            "startup": false,
            "wait_interval": 0
          }
        }
      },
      "cell_type": "code",
      "source": [
        ""
      ],
      "execution_count": 0,
      "outputs": []
    },
    {
      "metadata": {
        "id": "OHwX5z3oZNdp",
        "colab_type": "code",
        "colab": {
          "autoexec": {
            "startup": false,
            "wait_interval": 0
          }
        }
      },
      "cell_type": "code",
      "source": [
        ""
      ],
      "execution_count": 0,
      "outputs": []
    }
  ]
}